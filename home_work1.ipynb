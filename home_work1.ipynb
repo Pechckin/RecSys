{
 "cells": [
  {
   "cell_type": "markdown",
   "metadata": {},
   "source": [
    "### Матричные факторизации"
   ]
  },
  {
   "cell_type": "markdown",
   "metadata": {},
   "source": [
    "В данной работе вам предстоит познакомиться с практической стороной матричных разложений.\n",
    "Работа поделена на 4 задания:\n",
    "1. Вам необходимо реализовать SVD разложения используя SGD на explicit данных\n",
    "2. Вам необходимо реализовать матричное разложения используя ALS на implicit данных\n",
    "3. Вам необходимо реализовать матричное разложения используя BPR(pair-wise loss) на implicit данных\n",
    "4. Вам необходимо реализовать матричное разложения используя WARP(list-wise loss) на implicit данных\n",
    "\n",
    "Мягкий дедлайн 28 Сентября (пишутся замечания, выставляется оценка, есть возможность исправить до жесткого дедлайна)\n",
    "\n",
    "Жесткий дедлайн 5 Октября (Итоговая проверка)"
   ]
  },
  {
   "cell_type": "code",
   "execution_count": 5,
   "metadata": {},
   "outputs": [
    {
     "name": "stderr",
     "output_type": "stream",
     "text": [
      "/Users/sergekulesh/opt/miniconda3/lib/python3.7/site-packages/lightfm/_lightfm_fast.py:9: UserWarning: LightFM was compiled without OpenMP support. Only a single thread will be used.\n",
      "  warnings.warn('LightFM was compiled without OpenMP support. '\n"
     ]
    }
   ],
   "source": [
    "import implicit\n",
    "import pandas as pd\n",
    "import time\n",
    "import numpy as np\n",
    "import scipy.sparse as sp\n",
    "from copy import deepcopy as dp\n",
    "from tqdm import tqdm\n",
    "from lightfm.datasets import fetch_movielens"
   ]
  },
  {
   "cell_type": "markdown",
   "metadata": {},
   "source": [
    "В данной работе мы будем работать с explicit датасетом movieLens, в котором представленны пары user_id movie_id и rating выставленный пользователем фильму\n",
    "\n",
    "Скачать датасет можно по ссылке https://grouplens.org/datasets/movielens/1m/"
   ]
  },
  {
   "cell_type": "code",
   "execution_count": 6,
   "metadata": {},
   "outputs": [],
   "source": [
    "ratings = pd.read_csv('ratings.dat', delimiter='::', header=None, \n",
    "        names=['user_id', 'movie_id', 'rating', 'timestamp'], \n",
    "        usecols=['user_id', 'movie_id', 'rating'], engine='python')"
   ]
  },
  {
   "cell_type": "code",
   "execution_count": 7,
   "metadata": {},
   "outputs": [],
   "source": [
    "movie_info = pd.read_csv('movies.dat', delimiter='::', header=None, \n",
    "        names=['movie_id', 'name', 'category'], engine='python')"
   ]
  },
  {
   "cell_type": "markdown",
   "metadata": {},
   "source": [
    "Explicit данные"
   ]
  },
  {
   "cell_type": "code",
   "execution_count": 8,
   "metadata": {},
   "outputs": [
    {
     "data": {
      "text/html": [
       "<div>\n",
       "<style scoped>\n",
       "    .dataframe tbody tr th:only-of-type {\n",
       "        vertical-align: middle;\n",
       "    }\n",
       "\n",
       "    .dataframe tbody tr th {\n",
       "        vertical-align: top;\n",
       "    }\n",
       "\n",
       "    .dataframe thead th {\n",
       "        text-align: right;\n",
       "    }\n",
       "</style>\n",
       "<table border=\"1\" class=\"dataframe\">\n",
       "  <thead>\n",
       "    <tr style=\"text-align: right;\">\n",
       "      <th></th>\n",
       "      <th>user_id</th>\n",
       "      <th>movie_id</th>\n",
       "      <th>rating</th>\n",
       "    </tr>\n",
       "  </thead>\n",
       "  <tbody>\n",
       "    <tr>\n",
       "      <th>0</th>\n",
       "      <td>1</td>\n",
       "      <td>1193</td>\n",
       "      <td>5</td>\n",
       "    </tr>\n",
       "    <tr>\n",
       "      <th>1</th>\n",
       "      <td>1</td>\n",
       "      <td>661</td>\n",
       "      <td>3</td>\n",
       "    </tr>\n",
       "    <tr>\n",
       "      <th>2</th>\n",
       "      <td>1</td>\n",
       "      <td>914</td>\n",
       "      <td>3</td>\n",
       "    </tr>\n",
       "    <tr>\n",
       "      <th>3</th>\n",
       "      <td>1</td>\n",
       "      <td>3408</td>\n",
       "      <td>4</td>\n",
       "    </tr>\n",
       "    <tr>\n",
       "      <th>4</th>\n",
       "      <td>1</td>\n",
       "      <td>2355</td>\n",
       "      <td>5</td>\n",
       "    </tr>\n",
       "    <tr>\n",
       "      <th>5</th>\n",
       "      <td>1</td>\n",
       "      <td>1197</td>\n",
       "      <td>3</td>\n",
       "    </tr>\n",
       "    <tr>\n",
       "      <th>6</th>\n",
       "      <td>1</td>\n",
       "      <td>1287</td>\n",
       "      <td>5</td>\n",
       "    </tr>\n",
       "    <tr>\n",
       "      <th>7</th>\n",
       "      <td>1</td>\n",
       "      <td>2804</td>\n",
       "      <td>5</td>\n",
       "    </tr>\n",
       "    <tr>\n",
       "      <th>8</th>\n",
       "      <td>1</td>\n",
       "      <td>594</td>\n",
       "      <td>4</td>\n",
       "    </tr>\n",
       "    <tr>\n",
       "      <th>9</th>\n",
       "      <td>1</td>\n",
       "      <td>919</td>\n",
       "      <td>4</td>\n",
       "    </tr>\n",
       "  </tbody>\n",
       "</table>\n",
       "</div>"
      ],
      "text/plain": [
       "   user_id  movie_id  rating\n",
       "0        1      1193       5\n",
       "1        1       661       3\n",
       "2        1       914       3\n",
       "3        1      3408       4\n",
       "4        1      2355       5\n",
       "5        1      1197       3\n",
       "6        1      1287       5\n",
       "7        1      2804       5\n",
       "8        1       594       4\n",
       "9        1       919       4"
      ]
     },
     "execution_count": 8,
     "metadata": {},
     "output_type": "execute_result"
    }
   ],
   "source": [
    "ratings.head(10)"
   ]
  },
  {
   "cell_type": "markdown",
   "metadata": {},
   "source": [
    "Для того, чтобы преобразовать текущий датасет в Implicit, давайте считать что позитивная оценка это оценка >=4"
   ]
  },
  {
   "cell_type": "code",
   "execution_count": 9,
   "metadata": {},
   "outputs": [],
   "source": [
    "implicit_ratings = ratings.loc[(ratings['rating'] >= 4)]"
   ]
  },
  {
   "cell_type": "code",
   "execution_count": 10,
   "metadata": {},
   "outputs": [
    {
     "data": {
      "text/html": [
       "<div>\n",
       "<style scoped>\n",
       "    .dataframe tbody tr th:only-of-type {\n",
       "        vertical-align: middle;\n",
       "    }\n",
       "\n",
       "    .dataframe tbody tr th {\n",
       "        vertical-align: top;\n",
       "    }\n",
       "\n",
       "    .dataframe thead th {\n",
       "        text-align: right;\n",
       "    }\n",
       "</style>\n",
       "<table border=\"1\" class=\"dataframe\">\n",
       "  <thead>\n",
       "    <tr style=\"text-align: right;\">\n",
       "      <th></th>\n",
       "      <th>user_id</th>\n",
       "      <th>movie_id</th>\n",
       "      <th>rating</th>\n",
       "    </tr>\n",
       "  </thead>\n",
       "  <tbody>\n",
       "    <tr>\n",
       "      <th>0</th>\n",
       "      <td>1</td>\n",
       "      <td>1193</td>\n",
       "      <td>5</td>\n",
       "    </tr>\n",
       "    <tr>\n",
       "      <th>3</th>\n",
       "      <td>1</td>\n",
       "      <td>3408</td>\n",
       "      <td>4</td>\n",
       "    </tr>\n",
       "    <tr>\n",
       "      <th>4</th>\n",
       "      <td>1</td>\n",
       "      <td>2355</td>\n",
       "      <td>5</td>\n",
       "    </tr>\n",
       "    <tr>\n",
       "      <th>6</th>\n",
       "      <td>1</td>\n",
       "      <td>1287</td>\n",
       "      <td>5</td>\n",
       "    </tr>\n",
       "    <tr>\n",
       "      <th>7</th>\n",
       "      <td>1</td>\n",
       "      <td>2804</td>\n",
       "      <td>5</td>\n",
       "    </tr>\n",
       "    <tr>\n",
       "      <th>8</th>\n",
       "      <td>1</td>\n",
       "      <td>594</td>\n",
       "      <td>4</td>\n",
       "    </tr>\n",
       "    <tr>\n",
       "      <th>9</th>\n",
       "      <td>1</td>\n",
       "      <td>919</td>\n",
       "      <td>4</td>\n",
       "    </tr>\n",
       "    <tr>\n",
       "      <th>10</th>\n",
       "      <td>1</td>\n",
       "      <td>595</td>\n",
       "      <td>5</td>\n",
       "    </tr>\n",
       "    <tr>\n",
       "      <th>11</th>\n",
       "      <td>1</td>\n",
       "      <td>938</td>\n",
       "      <td>4</td>\n",
       "    </tr>\n",
       "    <tr>\n",
       "      <th>12</th>\n",
       "      <td>1</td>\n",
       "      <td>2398</td>\n",
       "      <td>4</td>\n",
       "    </tr>\n",
       "  </tbody>\n",
       "</table>\n",
       "</div>"
      ],
      "text/plain": [
       "    user_id  movie_id  rating\n",
       "0         1      1193       5\n",
       "3         1      3408       4\n",
       "4         1      2355       5\n",
       "6         1      1287       5\n",
       "7         1      2804       5\n",
       "8         1       594       4\n",
       "9         1       919       4\n",
       "10        1       595       5\n",
       "11        1       938       4\n",
       "12        1      2398       4"
      ]
     },
     "execution_count": 10,
     "metadata": {},
     "output_type": "execute_result"
    }
   ],
   "source": [
    "implicit_ratings.head(10)"
   ]
  },
  {
   "cell_type": "markdown",
   "metadata": {},
   "source": [
    "Удобнее работать с sparse матричками, давайте преобразуем DataFrame в CSR матрицы"
   ]
  },
  {
   "cell_type": "code",
   "execution_count": 11,
   "metadata": {},
   "outputs": [],
   "source": [
    "users = implicit_ratings[\"user_id\"]\n",
    "movies = implicit_ratings[\"movie_id\"]\n",
    "user_item = sp.coo_matrix((np.ones_like(users), (users, movies)))\n",
    "user_item_t_csr = user_item.T.tocsr()\n",
    "user_item_csr = user_item.tocsr()"
   ]
  },
  {
   "cell_type": "markdown",
   "metadata": {},
   "source": [
    "В качестве примера воспользуемся ALS разложением из библиотеки implicit\n",
    "\n",
    "Зададим размерность латентного пространства равным 64, это же определяет размер user/item эмбедингов"
   ]
  },
  {
   "cell_type": "code",
   "execution_count": 12,
   "metadata": {},
   "outputs": [],
   "source": [
    "model = implicit.als.AlternatingLeastSquares(factors=64, iterations=100, calculate_training_loss=True)"
   ]
  },
  {
   "cell_type": "markdown",
   "metadata": {},
   "source": [
    "В качестве loss здесь всеми любимый RMSE"
   ]
  },
  {
   "cell_type": "code",
   "execution_count": 13,
   "metadata": {},
   "outputs": [
    {
     "data": {
      "application/vnd.jupyter.widget-view+json": {
       "model_id": "5a35732fda164edb9150aaa5390576ac",
       "version_major": 2,
       "version_minor": 0
      },
      "text/plain": [
       "HBox(children=(FloatProgress(value=0.0), HTML(value='')))"
      ]
     },
     "metadata": {},
     "output_type": "display_data"
    },
    {
     "name": "stdout",
     "output_type": "stream",
     "text": [
      "\n"
     ]
    }
   ],
   "source": [
    "model.fit(user_item_t_csr)"
   ]
  },
  {
   "cell_type": "markdown",
   "metadata": {},
   "source": [
    "Построим похожие фильмы по 1 movie_id = Истории игрушек"
   ]
  },
  {
   "cell_type": "code",
   "execution_count": 14,
   "metadata": {},
   "outputs": [
    {
     "data": {
      "text/html": [
       "<div>\n",
       "<style scoped>\n",
       "    .dataframe tbody tr th:only-of-type {\n",
       "        vertical-align: middle;\n",
       "    }\n",
       "\n",
       "    .dataframe tbody tr th {\n",
       "        vertical-align: top;\n",
       "    }\n",
       "\n",
       "    .dataframe thead th {\n",
       "        text-align: right;\n",
       "    }\n",
       "</style>\n",
       "<table border=\"1\" class=\"dataframe\">\n",
       "  <thead>\n",
       "    <tr style=\"text-align: right;\">\n",
       "      <th></th>\n",
       "      <th>movie_id</th>\n",
       "      <th>name</th>\n",
       "      <th>category</th>\n",
       "    </tr>\n",
       "  </thead>\n",
       "  <tbody>\n",
       "    <tr>\n",
       "      <th>0</th>\n",
       "      <td>1</td>\n",
       "      <td>Toy Story (1995)</td>\n",
       "      <td>Animation|Children's|Comedy</td>\n",
       "    </tr>\n",
       "    <tr>\n",
       "      <th>1</th>\n",
       "      <td>2</td>\n",
       "      <td>Jumanji (1995)</td>\n",
       "      <td>Adventure|Children's|Fantasy</td>\n",
       "    </tr>\n",
       "    <tr>\n",
       "      <th>2</th>\n",
       "      <td>3</td>\n",
       "      <td>Grumpier Old Men (1995)</td>\n",
       "      <td>Comedy|Romance</td>\n",
       "    </tr>\n",
       "    <tr>\n",
       "      <th>3</th>\n",
       "      <td>4</td>\n",
       "      <td>Waiting to Exhale (1995)</td>\n",
       "      <td>Comedy|Drama</td>\n",
       "    </tr>\n",
       "    <tr>\n",
       "      <th>4</th>\n",
       "      <td>5</td>\n",
       "      <td>Father of the Bride Part II (1995)</td>\n",
       "      <td>Comedy</td>\n",
       "    </tr>\n",
       "  </tbody>\n",
       "</table>\n",
       "</div>"
      ],
      "text/plain": [
       "   movie_id                                name                      category\n",
       "0         1                    Toy Story (1995)   Animation|Children's|Comedy\n",
       "1         2                      Jumanji (1995)  Adventure|Children's|Fantasy\n",
       "2         3             Grumpier Old Men (1995)                Comedy|Romance\n",
       "3         4            Waiting to Exhale (1995)                  Comedy|Drama\n",
       "4         5  Father of the Bride Part II (1995)                        Comedy"
      ]
     },
     "execution_count": 14,
     "metadata": {},
     "output_type": "execute_result"
    }
   ],
   "source": [
    "movie_info.head(5)"
   ]
  },
  {
   "cell_type": "code",
   "execution_count": 15,
   "metadata": {},
   "outputs": [],
   "source": [
    "get_similars = lambda item_id, model : [movie_info[movie_info[\"movie_id\"] == x[0]][\"name\"].to_string() \n",
    "                                        for x in model.similar_items(item_id)]"
   ]
  },
  {
   "cell_type": "markdown",
   "metadata": {},
   "source": [
    "Как мы видим, симилары действительно оказались симиларами.\n",
    "\n",
    "Качество симиларов часто является хорошим способом проверить качество алгоритмов.\n",
    "\n",
    "P.S. Если хочется поглубже разобраться в том как разные алгоритмы формируют разные латентные пространства, рекомендую загружать полученные вектора в tensorBoard и смотреть на сформированное пространство"
   ]
  },
  {
   "cell_type": "code",
   "execution_count": 16,
   "metadata": {},
   "outputs": [
    {
     "data": {
      "text/plain": [
       "['0    Toy Story (1995)',\n",
       " '3045    Toy Story 2 (1999)',\n",
       " \"2286    Bug's Life, A (1998)\",\n",
       " '33    Babe (1995)',\n",
       " '584    Aladdin (1992)',\n",
       " '2315    Babe: Pig in the City (1998)',\n",
       " '360    Lion King, The (1994)',\n",
       " '1838    Mulan (1998)',\n",
       " '1526    Hercules (1997)',\n",
       " '2618    Tarzan (1999)']"
      ]
     },
     "execution_count": 16,
     "metadata": {},
     "output_type": "execute_result"
    }
   ],
   "source": [
    "get_similars(1, model)"
   ]
  },
  {
   "cell_type": "markdown",
   "metadata": {},
   "source": [
    "Давайте теперь построим рекомендации для юзеров\n",
    "\n",
    "Как мы видим юзеру нравится фантастика, значит и в рекомендациях ожидаем увидеть фантастику"
   ]
  },
  {
   "cell_type": "code",
   "execution_count": 17,
   "metadata": {},
   "outputs": [],
   "source": [
    "get_user_history = lambda user_id, implicit_ratings : [movie_info[movie_info[\"movie_id\"] == x][\"name\"].to_string() \n",
    "                                            for x in implicit_ratings[implicit_ratings[\"user_id\"] == user_id][\"movie_id\"]]"
   ]
  },
  {
   "cell_type": "code",
   "execution_count": 18,
   "metadata": {},
   "outputs": [
    {
     "data": {
      "text/plain": [
       "['3399    Hustler, The (1961)',\n",
       " '2882    Fistful of Dollars, A (1964)',\n",
       " '1196    Alien (1979)',\n",
       " '1023    Die Hard (1988)',\n",
       " '257    Star Wars: Episode IV - A New Hope (1977)',\n",
       " '1959    Saving Private Ryan (1998)',\n",
       " '476    Jurassic Park (1993)',\n",
       " '1180    Raiders of the Lost Ark (1981)',\n",
       " '1885    Rocky (1976)',\n",
       " '1081    E.T. the Extra-Terrestrial (1982)',\n",
       " '3349    Thelma & Louise (1991)',\n",
       " '3633    Mad Max (1979)',\n",
       " '2297    King Kong (1933)',\n",
       " '1366    Jaws (1975)',\n",
       " '1183    Good, The Bad and The Ugly, The (1966)',\n",
       " '2623    Run Lola Run (Lola rennt) (1998)',\n",
       " '2878    Goldfinger (1964)',\n",
       " '1220    Terminator, The (1984)']"
      ]
     },
     "execution_count": 18,
     "metadata": {},
     "output_type": "execute_result"
    }
   ],
   "source": [
    "get_user_history(4, implicit_ratings)"
   ]
  },
  {
   "cell_type": "markdown",
   "metadata": {},
   "source": [
    "Получилось! \n",
    "\n",
    "Мы действительно порекомендовали пользователю фантастику и боевики, более того встречаются продолжения тех фильмов, которые он высоко оценил"
   ]
  },
  {
   "cell_type": "code",
   "execution_count": 19,
   "metadata": {},
   "outputs": [],
   "source": [
    "get_recommendations = lambda user_id, model : [movie_info[movie_info[\"movie_id\"] == x[0]][\"name\"].to_string() \n",
    "                                               for x in model.recommend(user_id, user_item_csr)]"
   ]
  },
  {
   "cell_type": "code",
   "execution_count": 20,
   "metadata": {},
   "outputs": [
    {
     "data": {
      "text/plain": [
       "['585    Terminator 2: Judgment Day (1991)',\n",
       " '1271    Indiana Jones and the Last Crusade (1989)',\n",
       " '2502    Matrix, The (1999)',\n",
       " '1182    Aliens (1986)',\n",
       " '1284    Butch Cassidy and the Sundance Kid (1969)',\n",
       " '1178    Star Wars: Episode V - The Empire Strikes Back...',\n",
       " '3402    Close Encounters of the Third Kind (1977)',\n",
       " '847    Godfather, The (1972)',\n",
       " '2460    Planet of the Apes (1968)',\n",
       " '2880    Dr. No (1962)']"
      ]
     },
     "execution_count": 20,
     "metadata": {},
     "output_type": "execute_result"
    }
   ],
   "source": [
    "get_recommendations(4, model)"
   ]
  },
  {
   "cell_type": "markdown",
   "metadata": {},
   "source": [
    "ratings.movie_idТеперь ваша очередь реализовать самые популярные алгоритмы матричных разложений\n",
    "\n",
    "Что будет оцениваться:\n",
    "1. Корректность алгоритма\n",
    "2. Качество получившихся симиларов\n",
    "3. Качество итоговых рекомендаций для юзера"
   ]
  },
  {
   "cell_type": "markdown",
   "metadata": {},
   "source": [
    "### Задание 1. Не использую готовые решения, реализовать SVD разложение используя SGD на explicit данных"
   ]
  },
  {
   "cell_type": "code",
   "execution_count": 17,
   "metadata": {},
   "outputs": [],
   "source": [
    "class SVD:\n",
    "    def __init__(self, learning_rate = 1e-3, lambda_l2 = 1e-3, \n",
    "                 epsilon = 1e-3, latent_size = 16, max_iterations = int(1e7), verbose = int(1e5)):\n",
    "        self.learning_rate = learning_rate\n",
    "        self.lambda_l2 = lambda_l2\n",
    "        self.epsilon = epsilon\n",
    "        self.latent_size = latent_size\n",
    "        self.max_iterations = max_iterations\n",
    "        self.verbose = verbose \n",
    "        \n",
    "    def fit(self, ratings, movie_info):\n",
    "        # функция поиска описания фильма по его идентификатору\n",
    "        self.search = lambda x: movie_info.loc[movie_info.movie_id == x]\n",
    "        \n",
    "        # инициализация матриц эмбедингов\n",
    "        self.W = np.random.uniform(0, 1/np.sqrt(self.latent_size), \n",
    "                      size=(ratings.user_id.max(), self.latent_size)) \n",
    "        \n",
    "        self.H = np.random.uniform(0, 1/np.sqrt(self.latent_size), \n",
    "                      size=(self.latent_size, ratings.movie_id.max())) \n",
    "        \n",
    "        # инициализация векторов смещения\n",
    "        self.Wb = np.random.normal(2.5, 1, ratings.user_id.max()).reshape(-1, 1) \n",
    "        self.Hb = np.random.normal(2.5, 1, ratings.movie_id.max()).reshape(1, -1) \n",
    "        self.mu = np.mean(ratings.rating.mean())\n",
    "        \n",
    "        ratings_numpy = ratings.to_numpy()\n",
    "        self.movie_info = movie_info\n",
    "        self.ratings = ratings\n",
    "    \n",
    "        l = ratings.shape[0]\n",
    "        itx = 0\n",
    "        \n",
    "        while True:\n",
    "            \n",
    "            if not itx % self.verbose:\n",
    "                # подсчет rmse на кратной итерации\n",
    "                self.PR = np.array(self.W @ self.H + self.Wb + self.Hb + self.mu)\n",
    "                idx_users = ratings_numpy[:, 0] - 1\n",
    "                idx_movies = ratings_numpy[:, 1] - 1\n",
    "                rvals = ratings_numpy[:, 2]\n",
    "                f_norm =  np.linalg.norm(self.PR[idx_users, idx_movies] - rvals) / l\n",
    "                print(f'|{itx}. rmse - {f_norm:.5f}')\n",
    "                if f_norm <= self.epsilon:\n",
    "                    break\n",
    "                \n",
    "            # градиентый спуск по случайному известному элементу матрицы рейтингов\n",
    "            i, j, r = ratings_numpy[np.random.randint(l)]\n",
    "            i -= 1\n",
    "            j -= 1\n",
    "            \n",
    "            err = self.W[i, :] @ self.H[:, j] + self.Wb[i, :] + self.Hb[:, j] + self.mu - r\n",
    "            \n",
    "            W_upd = self.W[i, :] - self.learning_rate * (err * self.H[:, j].T + self.lambda_l2 * self.W[i, :])\n",
    "            H_upd = self.H[:, j] - self.learning_rate * (err * self.W[i, :].T + self.lambda_l2 * self.H[:, j])\n",
    "            \n",
    "            \n",
    "            self.Wb[i, :] -= self.learning_rate * (err + self.lambda_l2 * self.Wb[i, :])\n",
    "            self.Hb[:, j] -= self.learning_rate * (err + self.lambda_l2 * self.Hb[:, j])\n",
    "            \n",
    "            self.W[i, :] = W_upd\n",
    "            self.H[:, j] = H_upd\n",
    "            \n",
    "            itx += 1\n",
    "            if itx >= self.max_iterations:\n",
    "                break\n",
    "        \n",
    "        self.movie_values = self.ratings.movie_id.sort_values().unique()\n",
    "        print(f'Done! ({itx}, {f_norm:.5f})')\n",
    "        \n",
    "    def history(self, idx, count = 5):\n",
    "        # выгрузка истории просмотренных фильмов по идентификатору пользователя\n",
    "        idies = self.ratings.loc[self.ratings.user_id == idx].sort_values('rating').movie_id.iloc[:count].values\n",
    "        histories = pd.concat([self.search(i) for i in idies])\n",
    "        return histories.to_numpy()\n",
    "        \n",
    "\n",
    "    def similar_items(self, idx, count = 5):\n",
    "        # предсказание схожих по представлениям фильмов\n",
    "        similar_key = lambda x: np.linalg.norm(self.H[:, x] - self.H[:, idx - 1])\n",
    "        idx_movies_real = self.ratings.movie_id.sort_values().unique() \n",
    "        distances = [[x, np.linalg.norm(similar_key(x - 1))] for x in idx_movies_real]\n",
    "        distances.sort(key = lambda x: x[1])\n",
    "        idies = [i[0] for i in distances[:count + 1]]\n",
    "        similaries = pd.concat([self.search(i) for i in idies])\n",
    "        return similaries.to_numpy()\n",
    "    \n",
    "    def recommend(self, idx, count = 5):\n",
    "        # рекомендации пользователю \n",
    "        user_ratings_all = np.array(self.W @ self.H + self.Wb + self.Hb + self.mu)[idx - 1]\n",
    "        user_ratings = set(ratings.loc[ratings.user_id == idx].movie_id)\n",
    "        sorted_all_idies = np.argsort(user_ratings_all)[::-1] + 1\n",
    "        idies = [i for i in sorted_all_idies if i not in user_ratings][:count]\n",
    "        recomendations = pd.concat([self.search(i) for i in idies])\n",
    "        return recomendations.to_numpy()"
   ]
  },
  {
   "cell_type": "code",
   "execution_count": 18,
   "metadata": {},
   "outputs": [
    {
     "name": "stdout",
     "output_type": "stream",
     "text": [
      "|0. rmse - 0.00564\n",
      "|200000. rmse - 0.00193\n",
      "|400000. rmse - 0.00145\n",
      "|600000. rmse - 0.00125\n",
      "|800000. rmse - 0.00114\n",
      "|1000000. rmse - 0.00108\n",
      "|1200000. rmse - 0.00104\n",
      "|1400000. rmse - 0.00102\n",
      "|1600000. rmse - 0.00100\n",
      "|1800000. rmse - 0.00098\n",
      "|2000000. rmse - 0.00097\n",
      "|2200000. rmse - 0.00096\n",
      "|2400000. rmse - 0.00095\n",
      "|2600000. rmse - 0.00095\n",
      "|2800000. rmse - 0.00094\n",
      "|3000000. rmse - 0.00094\n",
      "|3200000. rmse - 0.00094\n",
      "|3400000. rmse - 0.00093\n",
      "|3600000. rmse - 0.00093\n",
      "|3800000. rmse - 0.00093\n",
      "Done! (4000000, 0.00093)\n"
     ]
    }
   ],
   "source": [
    "SVD_SGD = SVD(learning_rate = 1e-2, lambda_l2 = 0.1, latent_size = 64, epsilon = 1e-4, max_iterations = int(4e6), verbose = int(2e5))\n",
    "SVD_SGD.fit(ratings, movie_info)"
   ]
  },
  {
   "cell_type": "code",
   "execution_count": 22,
   "metadata": {},
   "outputs": [
    {
     "data": {
      "text/plain": [
       "array([[1, 'Toy Story (1995)', \"Animation|Children's|Comedy\"],\n",
       "       [3114, 'Toy Story 2 (1999)', \"Animation|Children's|Comedy\"],\n",
       "       [1196, 'Star Wars: Episode V - The Empire Strikes Back (1980)',\n",
       "        'Action|Adventure|Drama|Sci-Fi|War'],\n",
       "       [589, 'Terminator 2: Judgment Day (1991)',\n",
       "        'Action|Sci-Fi|Thriller'],\n",
       "       [1193, \"One Flew Over the Cuckoo's Nest (1975)\", 'Drama'],\n",
       "       [34, 'Babe (1995)', \"Children's|Comedy|Drama\"]], dtype=object)"
      ]
     },
     "execution_count": 22,
     "metadata": {},
     "output_type": "execute_result"
    }
   ],
   "source": [
    "SVD_SGD.similar_items(1)"
   ]
  },
  {
   "cell_type": "code",
   "execution_count": 23,
   "metadata": {},
   "outputs": [
    {
     "data": {
      "text/plain": [
       "array([[878, 'Bye-Bye (1995)', 'Drama'],\n",
       "       [2270, 'Century of Cinema, A (1994)', 'Documentary'],\n",
       "       [285, 'Beyond Bedlam (1993)', 'Drama|Horror'],\n",
       "       [3779, 'Project Moon Base (1953)', 'Sci-Fi'],\n",
       "       [1360,\n",
       "        'Identification of a Woman (Identificazione di una donna) (1982)',\n",
       "        'Drama'],\n",
       "       [2954, 'Penitentiary (1979)', 'Drama'],\n",
       "       [1519, 'Broken English (1996)', 'Drama']], dtype=object)"
      ]
     },
     "execution_count": 23,
     "metadata": {},
     "output_type": "execute_result"
    }
   ],
   "source": [
    "SVD_SGD.recommend(4, 10)"
   ]
  },
  {
   "cell_type": "code",
   "execution_count": 24,
   "metadata": {},
   "outputs": [
    {
     "data": {
      "text/plain": [
       "array([[3527, 'Predator (1987)', 'Action|Sci-Fi|Thriller'],\n",
       "       [1196, 'Star Wars: Episode V - The Empire Strikes Back (1980)',\n",
       "        'Action|Adventure|Drama|Sci-Fi|War'],\n",
       "       [1210, 'Star Wars: Episode VI - Return of the Jedi (1983)',\n",
       "        'Action|Adventure|Romance|Sci-Fi|War'],\n",
       "       [2951, 'Fistful of Dollars, A (1964)', 'Action|Western'],\n",
       "       [1214, 'Alien (1979)', 'Action|Horror|Sci-Fi|Thriller'],\n",
       "       [1036, 'Die Hard (1988)', 'Action|Thriller'],\n",
       "       [480, 'Jurassic Park (1993)', 'Action|Adventure|Sci-Fi'],\n",
       "       [1097, 'E.T. the Extra-Terrestrial (1982)',\n",
       "        \"Children's|Drama|Fantasy|Sci-Fi\"],\n",
       "       [3418, 'Thelma & Louise (1991)', 'Action|Drama'],\n",
       "       [3702, 'Mad Max (1979)', 'Action|Sci-Fi']], dtype=object)"
      ]
     },
     "execution_count": 24,
     "metadata": {},
     "output_type": "execute_result"
    }
   ],
   "source": [
    "SVD_SGD.history(4, 10)"
   ]
  },
  {
   "cell_type": "markdown",
   "metadata": {},
   "source": [
    "### Задание 2. Не использую готовые решения, реализовать матричное разложение используя ALS на implicit данных"
   ]
  },
  {
   "cell_type": "code",
   "execution_count": 25,
   "metadata": {},
   "outputs": [],
   "source": [
    "class ALS:\n",
    "    def __init__(self, learning_rate = 1e-3, lambda_l2 = 1e-3, \n",
    "                 epsilon = 1e-3, latent_size = 16, max_iterations = int(1e7), verbose = int(1e5)):\n",
    "        self.learning_rate = learning_rate\n",
    "        self.lambda_l2 = lambda_l2\n",
    "        self.epsilon = epsilon\n",
    "        self.latent_size = latent_size\n",
    "        self.max_iterations = max_iterations\n",
    "        self.verbose = verbose \n",
    "        \n",
    "    def fit(self, ratings, movie_info):\n",
    "        self.search = lambda x: movie_info.loc[movie_info.movie_id == x]\n",
    "        \n",
    "        self.W = np.random.uniform(0, 1/np.sqrt(self.latent_size), \n",
    "                      size=(ratings.user_id.max(), self.latent_size)) \n",
    "        \n",
    "        self.H = np.random.uniform(0, 1/np.sqrt(self.latent_size), \n",
    "                      size=(self.latent_size, ratings.movie_id.max()))     \n",
    "        \n",
    "        ratings_numpy = ratings.to_numpy()\n",
    "        \n",
    "        u_id = ratings_numpy[:, 0] - 1\n",
    "        m_id = ratings_numpy[:, 1] - 1\n",
    "        r_vl = ratings_numpy[:, 2]\n",
    "        \n",
    "        self.movie_info = movie_info\n",
    "        self.ratings = ratings\n",
    "    \n",
    "        l = ratings.shape[0]\n",
    "        itx = 0\n",
    "        \n",
    "        while True:\n",
    "            self.PR = np.array(self.W @ self.H)\n",
    "            if not itx % self.verbose:\n",
    "                idx_users = ratings_numpy[:, 0] - 1\n",
    "                idx_movies = ratings_numpy[:, 1] - 1\n",
    "                rvals = ratings_numpy[:, 2]\n",
    "                f_norm =  np.linalg.norm(self.PR[idx_users, idx_movies] - rvals) / l\n",
    "                print(f'|{itx}. rmse - {f_norm:.5f}')\n",
    "                if f_norm <= self.epsilon:\n",
    "                    break\n",
    "                    \n",
    "            err = dp(self.PR)\n",
    "            err[u_id, m_id] -= r_vl\n",
    "            \n",
    "            if not itx % 2:\n",
    "                self.W -= self.learning_rate * (err @ self.H.T + self.lambda_l2 * self.W)\n",
    "            else:\n",
    "                self.H -= self.learning_rate * (self.W.T @ err + self.lambda_l2 * self.H)\n",
    "            \n",
    "            itx += 1\n",
    "            if itx >= self.max_iterations:\n",
    "                break\n",
    "        \n",
    "        self.movie_values = self.ratings.movie_id.sort_values().unique()\n",
    "        print(f'Done! ({itx}, {f_norm:.5f})')\n",
    "        \n",
    "    def history(self, idx, count = 5):\n",
    "        # выгрузка истории просмотренных фильмов по идентификатору пользователя\n",
    "        idies = self.ratings.loc[self.ratings.user_id == idx].sort_values('rating').movie_id.iloc[:count].values\n",
    "        histories = pd.concat([self.search(i) for i in idies])\n",
    "        return histories.to_numpy()\n",
    "        \n",
    "\n",
    "    def similar_items(self, idx, count = 5):\n",
    "        # предсказание схожих по представлениям фильмов\n",
    "        similar_key = lambda x: np.linalg.norm(self.H[:, x] - self.H[:, idx - 1])\n",
    "        idx_movies_real = self.ratings.movie_id.sort_values().unique() \n",
    "        distances = [[x, np.linalg.norm(similar_key(x - 1))] for x in idx_movies_real]\n",
    "        distances.sort(key = lambda x: x[1])\n",
    "        idies = [i[0] for i in distances[:count + 1]]\n",
    "        similaries = pd.concat([self.search(i) for i in idies])\n",
    "        return similaries.to_numpy()\n",
    "    \n",
    "    def recommend(self, idx, count = 5):\n",
    "        # рекомендации пользователю \n",
    "        user_ratings_all = np.array(self.W @ self.H)[idx - 1]\n",
    "        user_ratings = set(ratings.loc[ratings.user_id == idx].movie_id)\n",
    "        sorted_all_idies = np.argsort(user_ratings_all)[::-1] + 1\n",
    "        idies = [i for i in sorted_all_idies if i not in user_ratings][:count]\n",
    "        recomendations = pd.concat([self.search(i) for i in idies])\n",
    "        return recomendations.to_numpy()"
   ]
  },
  {
   "cell_type": "code",
   "execution_count": 26,
   "metadata": {},
   "outputs": [
    {
     "name": "stdout",
     "output_type": "stream",
     "text": [
      "|0. rmse - 0.00550\n",
      "|25. rmse - 0.00439\n",
      "|50. rmse - 0.00395\n",
      "|75. rmse - 0.00374\n",
      "|100. rmse - 0.00370\n",
      "|125. rmse - 0.00369\n",
      "Done! (150, 0.00369)\n"
     ]
    }
   ],
   "source": [
    "ALS_SGD = ALS(learning_rate = 1e-3, lambda_l2 = 1e-3, latent_size = 64, epsilon = 1e-4, max_iterations = 150, verbose = 25)\n",
    "ALS_SGD.fit(implicit_ratings, movie_info)"
   ]
  },
  {
   "cell_type": "code",
   "execution_count": 27,
   "metadata": {},
   "outputs": [
    {
     "data": {
      "text/plain": [
       "array([[1, 'Toy Story (1995)', \"Animation|Children's|Comedy\"],\n",
       "       [3114, 'Toy Story 2 (1999)', \"Animation|Children's|Comedy\"],\n",
       "       [2355, \"Bug's Life, A (1998)\", \"Animation|Children's|Comedy\"],\n",
       "       [588, 'Aladdin (1992)', \"Animation|Children's|Comedy|Musical\"],\n",
       "       [364, 'Lion King, The (1994)', \"Animation|Children's|Musical\"],\n",
       "       [2321, 'Pleasantville (1998)', 'Comedy']], dtype=object)"
      ]
     },
     "execution_count": 27,
     "metadata": {},
     "output_type": "execute_result"
    }
   ],
   "source": [
    "ALS_SGD.similar_items(1)"
   ]
  },
  {
   "cell_type": "code",
   "execution_count": 32,
   "metadata": {},
   "outputs": [
    {
     "data": {
      "text/plain": [
       "array([[1291, 'Indiana Jones and the Last Crusade (1989)',\n",
       "        'Action|Adventure'],\n",
       "       [1200, 'Aliens (1986)', 'Action|Sci-Fi|Thriller|War'],\n",
       "       [1304, 'Butch Cassidy and the Sundance Kid (1969)',\n",
       "        'Action|Comedy|Western'],\n",
       "       [457, 'Fugitive, The (1993)', 'Action|Thriller'],\n",
       "       [589, 'Terminator 2: Judgment Day (1991)',\n",
       "        'Action|Sci-Fi|Thriller'],\n",
       "       [2529, 'Planet of the Apes (1968)', 'Action|Sci-Fi'],\n",
       "       [2571, 'Matrix, The (1999)', 'Action|Sci-Fi|Thriller'],\n",
       "       [3471, 'Close Encounters of the Third Kind (1977)',\n",
       "        'Drama|Sci-Fi'],\n",
       "       [858, 'Godfather, The (1972)', 'Action|Crime|Drama'],\n",
       "       [110, 'Braveheart (1995)', 'Action|Drama|War'],\n",
       "       [1197, 'Princess Bride, The (1987)',\n",
       "        'Action|Adventure|Comedy|Romance'],\n",
       "       [2000, 'Lethal Weapon (1987)', 'Action|Comedy|Crime|Drama'],\n",
       "       [969, 'African Queen, The (1951)', 'Action|Adventure|Romance|War'],\n",
       "       [1953, 'French Connection, The (1971)',\n",
       "        'Action|Crime|Drama|Thriller'],\n",
       "       [1287, 'Ben-Hur (1959)', 'Action|Adventure|Drama'],\n",
       "       [3703, 'Mad Max 2 (a.k.a. The Road Warrior) (1981)',\n",
       "        'Action|Sci-Fi'],\n",
       "       [1234, 'Sting, The (1973)', 'Comedy|Crime'],\n",
       "       [2194, 'Untouchables, The (1987)', 'Action|Crime|Drama'],\n",
       "       [2115, 'Indiana Jones and the Temple of Doom (1984)',\n",
       "        'Action|Adventure'],\n",
       "       [1610, 'Hunt for Red October, The (1990)', 'Action|Thriller']],\n",
       "      dtype=object)"
      ]
     },
     "execution_count": 32,
     "metadata": {},
     "output_type": "execute_result"
    }
   ],
   "source": [
    "ALS_SGD.recommend(4, 20)"
   ]
  },
  {
   "cell_type": "code",
   "execution_count": 33,
   "metadata": {},
   "outputs": [
    {
     "data": {
      "text/plain": [
       "array([[2951, 'Fistful of Dollars, A (1964)', 'Action|Western'],\n",
       "       [1214, 'Alien (1979)', 'Action|Horror|Sci-Fi|Thriller'],\n",
       "       [1036, 'Die Hard (1988)', 'Action|Thriller'],\n",
       "       [480, 'Jurassic Park (1993)', 'Action|Adventure|Sci-Fi'],\n",
       "       [2366, 'King Kong (1933)', 'Action|Adventure|Horror'],\n",
       "       [1097, 'E.T. the Extra-Terrestrial (1982)',\n",
       "        \"Children's|Drama|Fantasy|Sci-Fi\"],\n",
       "       [3418, 'Thelma & Louise (1991)', 'Action|Drama'],\n",
       "       [3702, 'Mad Max (1979)', 'Action|Sci-Fi'],\n",
       "       [3468, 'Hustler, The (1961)', 'Drama'],\n",
       "       [2692, 'Run Lola Run (Lola rennt) (1998)', 'Action|Crime|Romance'],\n",
       "       [1201, 'Good, The Bad and The Ugly, The (1966)', 'Action|Western'],\n",
       "       [1387, 'Jaws (1975)', 'Action|Horror'],\n",
       "       [1954, 'Rocky (1976)', 'Action|Drama'],\n",
       "       [1198, 'Raiders of the Lost Ark (1981)', 'Action|Adventure'],\n",
       "       [2028, 'Saving Private Ryan (1998)', 'Action|Drama|War'],\n",
       "       [260, 'Star Wars: Episode IV - A New Hope (1977)',\n",
       "        'Action|Adventure|Fantasy|Sci-Fi'],\n",
       "       [2947, 'Goldfinger (1964)', 'Action'],\n",
       "       [1240, 'Terminator, The (1984)', 'Action|Sci-Fi|Thriller']],\n",
       "      dtype=object)"
      ]
     },
     "execution_count": 33,
     "metadata": {},
     "output_type": "execute_result"
    }
   ],
   "source": [
    "ALS_SGD.history(4, 20)"
   ]
  },
  {
   "cell_type": "markdown",
   "metadata": {},
   "source": [
    "### Задание 3. Не использую готовые решения, реализовать матричное разложение BPR на implicit данных"
   ]
  },
  {
   "cell_type": "code",
   "execution_count": 23,
   "metadata": {},
   "outputs": [],
   "source": [
    "class BPR:\n",
    "    def __init__(self, learning_rate = 1e-3, lambda_l2 = 1e-3, \n",
    "                 epsilon = 1e-3, latent_size = 16, max_iterations = int(1e7), verbose = int(1e5)):\n",
    "        self.learning_rate = learning_rate\n",
    "        self.lambda_l2 = lambda_l2\n",
    "        self.epsilon = epsilon\n",
    "        self.latent_size = latent_size\n",
    "        self.max_iterations = max_iterations\n",
    "        self.verbose = verbose \n",
    "        \n",
    "    def fit(self, ratings, movie_info):\n",
    "        \n",
    "        \n",
    "        # функция поиска описания фильма по его идентификатору\n",
    "        self.search = lambda x: movie_info.loc[movie_info.movie_id == x]\n",
    "        \n",
    "        # инициализация матриц эмбедингов\n",
    "        self.W = np.random.uniform(0, 1/np.sqrt(self.latent_size), \n",
    "                      size=(ratings.user_id.max(), self.latent_size)) \n",
    "        \n",
    "        self.H = np.random.uniform(0, 1/np.sqrt(self.latent_size), \n",
    "                      size=(self.latent_size, ratings.movie_id.max())) \n",
    "        set_movies_all = set(np.arange(1, ratings.movie_id.max() + 1))\n",
    "#         self.biasV = np.random.rand(len(set_movies_all)) * 0.01\n",
    "        \n",
    "        ratings_numpy = ratings.to_numpy()\n",
    "        self.movie_info = movie_info\n",
    "        self.ratings = ratings\n",
    "    \n",
    "        l = ratings.shape[0]\n",
    "        itx = 0\n",
    "        # множество всех фильмов\n",
    "        \n",
    "        while True:\n",
    "\n",
    "            # подсчет rmse на кратной итерации\n",
    "            self.PR = np.array(self.W @ self.H)\n",
    "            idx_users = ratings_numpy[:, 0] - 1\n",
    "            idx_movies = ratings_numpy[:, 1] - 1\n",
    "            rvals = ratings_numpy[:, 2]\n",
    "            f_norm =  np.linalg.norm(self.PR[idx_users, idx_movies] - rvals) / l\n",
    "            if f_norm <= self.epsilon:\n",
    "                break\n",
    "                    \n",
    "            for u_pos in tqdm(ratings.user_id.unique(), position=0, leave=False, desc=f'|{itx}. rmse - {f_norm:.10f}'):\n",
    "                    u_movies = ratings.loc[ratings.user_id == u_pos].movie_id\n",
    "                    m_pos = u_movies.sample().item()\n",
    "\n",
    "                    u_pos -= 1\n",
    "                    m_pos -= 1\n",
    "                    # выделяем негативные случаи и берем случайный элемент\n",
    "                    set_movies_pos = set(u_movies)\n",
    "                    idies_neg = list(set_movies_all - set_movies_pos)\n",
    "                    for _ in range(3):\n",
    "                        m_neg = np.random.choice(idies_neg) - 1\n",
    "\n",
    "                        # считаем расстояние от позитивного отзыва до негативного\n",
    "                        r_pos = self.W[u_pos, :] @ self.H[:, m_pos]# + self.biasV[m_pos]\n",
    "                        r_neg = self.W[u_pos, :] @ self.H[:, m_neg]# + self.biasV[m_neg]\n",
    "                        err = r_pos - r_neg\n",
    "\n",
    "                        loss = -1.0 / (1 + np.exp(err))\n",
    "                        self.W[u_pos, :] -= self.learning_rate * (loss * (self.H[:, m_pos].T - self.H[:, m_neg].T)\n",
    "                                                              + self.lambda_l2 * self.W[u_pos, :])\n",
    "\n",
    "                        self.H[:, m_pos] -= self.learning_rate * (loss * self.W[u_pos, :].T + self.lambda_l2 * self.H[:, m_pos])\n",
    "                        self.H[:, m_neg] -= self.learning_rate * (loss * self.W[u_pos, :].T + self.lambda_l2 * self.H[:, m_neg])\n",
    "\n",
    "#                         self.biasV[m_pos] -= self.learning_rate * (loss + self.lambda_l2 * self.biasV[m_pos])\n",
    "#                         self.biasV[m_neg] -= self.learning_rate * (-loss + self.lambda_l2 * self.biasV[m_neg])\n",
    "                        \n",
    "            itx += 1\n",
    "            if itx >= self.max_iterations:\n",
    "                break\n",
    "        \n",
    "        self.movie_values = self.ratings.movie_id.sort_values().unique()\n",
    "        print(f'Done! ({itx}, {f_norm:.5f})')\n",
    "        \n",
    "    def history(self, idx, count = 5):\n",
    "        # выгрузка истории просмотренных фильмов по идентификатору пользователя\n",
    "        idies = self.ratings.loc[self.ratings.user_id == idx].sort_values('rating').movie_id.iloc[:count].values\n",
    "        histories = pd.concat([self.search(i) for i in idies])\n",
    "        return histories.to_numpy()\n",
    "        \n",
    "\n",
    "    def similar_items(self, idx, count = 5):\n",
    "        # предсказание схожих по представлениям фильмов\n",
    "        similar_key = lambda x: np.linalg.norm(self.H[:, x] - self.H[:, idx - 1])\n",
    "        idx_movies_real = self.ratings.movie_id.sort_values().unique() \n",
    "        distances = [[x, np.linalg.norm(similar_key(x - 1))] for x in idx_movies_real]\n",
    "        distances.sort(key = lambda x: x[1])\n",
    "        idies = [i[0] for i in distances[:count + 1]]\n",
    "        similaries = pd.concat([self.search(i) for i in idies])\n",
    "        return similaries.to_numpy()\n",
    "    \n",
    "    def recommend(self, idx, count = 5):\n",
    "        # рекомендации пользователю \n",
    "        user_ratings_all = np.array(self.W @ self.H)[idx - 1]\n",
    "        user_ratings = set(ratings.loc[ratings.user_id == idx].movie_id)\n",
    "        sorted_all_idies = np.argsort(user_ratings_all)[::-1] + 1\n",
    "        idies = [i for i in sorted_all_idies if i not in user_ratings][:count]\n",
    "        recomendations = pd.concat([self.search(i) for i in idies])\n",
    "        return recomendations.to_numpy()"
   ]
  },
  {
   "cell_type": "code",
   "execution_count": 24,
   "metadata": {},
   "outputs": [
    {
     "name": "stderr",
     "output_type": "stream",
     "text": [
      "                                                                              \r"
     ]
    },
    {
     "name": "stdout",
     "output_type": "stream",
     "text": [
      "Done! (100, 0.00475)\n"
     ]
    }
   ],
   "source": [
    "BPR_SGD = BPR(learning_rate = 5e-2, lambda_l2 = 1e-3, latent_size = 32, epsilon = 1e-4, max_iterations = 100, verbose = 1)\n",
    "BPR_SGD.fit(implicit_ratings, movie_info)"
   ]
  },
  {
   "cell_type": "code",
   "execution_count": 25,
   "metadata": {},
   "outputs": [
    {
     "data": {
      "text/plain": [
       "array([[1, 'Toy Story (1995)', \"Animation|Children's|Comedy\"],\n",
       "       [1213, 'GoodFellas (1990)', 'Crime|Drama'],\n",
       "       [2804, 'Christmas Story, A (1983)', 'Comedy|Drama'],\n",
       "       [1270, 'Back to the Future (1985)', 'Comedy|Sci-Fi'],\n",
       "       [1610, 'Hunt for Red October, The (1990)', 'Action|Thriller'],\n",
       "       [904, 'Rear Window (1954)', 'Mystery|Thriller']], dtype=object)"
      ]
     },
     "execution_count": 25,
     "metadata": {},
     "output_type": "execute_result"
    }
   ],
   "source": [
    "BPR_SGD.similar_items(1)"
   ]
  },
  {
   "cell_type": "code",
   "execution_count": 26,
   "metadata": {},
   "outputs": [
    {
     "data": {
      "text/plain": [
       "array([[2951, 'Fistful of Dollars, A (1964)', 'Action|Western'],\n",
       "       [1214, 'Alien (1979)', 'Action|Horror|Sci-Fi|Thriller'],\n",
       "       [1036, 'Die Hard (1988)', 'Action|Thriller'],\n",
       "       [480, 'Jurassic Park (1993)', 'Action|Adventure|Sci-Fi'],\n",
       "       [2366, 'King Kong (1933)', 'Action|Adventure|Horror'],\n",
       "       [1097, 'E.T. the Extra-Terrestrial (1982)',\n",
       "        \"Children's|Drama|Fantasy|Sci-Fi\"],\n",
       "       [3418, 'Thelma & Louise (1991)', 'Action|Drama'],\n",
       "       [3702, 'Mad Max (1979)', 'Action|Sci-Fi'],\n",
       "       [3468, 'Hustler, The (1961)', 'Drama'],\n",
       "       [2692, 'Run Lola Run (Lola rennt) (1998)', 'Action|Crime|Romance']],\n",
       "      dtype=object)"
      ]
     },
     "execution_count": 26,
     "metadata": {},
     "output_type": "execute_result"
    }
   ],
   "source": [
    "BPR_SGD.history(4, 10)"
   ]
  },
  {
   "cell_type": "code",
   "execution_count": 27,
   "metadata": {},
   "outputs": [
    {
     "data": {
      "text/plain": [
       "array([[3753, 'Patriot, The (2000)', 'Action|Drama|War'],\n",
       "       [2858, 'American Beauty (1999)', 'Comedy|Drama'],\n",
       "       [1259, 'Stand by Me (1986)', 'Adventure|Comedy|Drama'],\n",
       "       [589, 'Terminator 2: Judgment Day (1991)',\n",
       "        'Action|Sci-Fi|Thriller'],\n",
       "       [356, 'Forrest Gump (1994)', 'Comedy|Romance|War'],\n",
       "       [457, 'Fugitive, The (1993)', 'Action|Thriller'],\n",
       "       [3114, 'Toy Story 2 (1999)', \"Animation|Children's|Comedy\"],\n",
       "       [318, 'Shawshank Redemption, The (1994)', 'Drama'],\n",
       "       [608, 'Fargo (1996)', 'Crime|Drama|Thriller'],\n",
       "       [3176, 'Talented Mr. Ripley, The (1999)',\n",
       "        'Drama|Mystery|Thriller'],\n",
       "       [858, 'Godfather, The (1972)', 'Action|Crime|Drama'],\n",
       "       [3408, 'Erin Brockovich (2000)', 'Drama'],\n",
       "       [296, 'Pulp Fiction (1994)', 'Crime|Drama'],\n",
       "       [1193, \"One Flew Over the Cuckoo's Nest (1975)\", 'Drama'],\n",
       "       [2599, 'Election (1999)', 'Comedy'],\n",
       "       [593, 'Silence of the Lambs, The (1991)', 'Drama|Thriller'],\n",
       "       [1197, 'Princess Bride, The (1987)',\n",
       "        'Action|Adventure|Comedy|Romance'],\n",
       "       [908, 'North by Northwest (1959)', 'Drama|Thriller'],\n",
       "       [34, 'Babe (1995)', \"Children's|Comedy|Drama\"],\n",
       "       [1580, 'Men in Black (1997)', 'Action|Adventure|Comedy|Sci-Fi']],\n",
       "      dtype=object)"
      ]
     },
     "execution_count": 27,
     "metadata": {},
     "output_type": "execute_result"
    }
   ],
   "source": [
    "BPR_SGD.recommend(4, 20)"
   ]
  },
  {
   "cell_type": "markdown",
   "metadata": {},
   "source": [
    "### Задание 4. Не использую готовые решения, реализовать матричное разложение WARP на implicit данных"
   ]
  },
  {
   "cell_type": "code",
   "execution_count": 30,
   "metadata": {},
   "outputs": [],
   "source": [
    "class WARP:\n",
    "    def __init__(self, learning_rate = 1e-3, lambda_l2 = 1e-3, \n",
    "                 epsilon = 1e-3, latent_size = 16, max_iterations = int(1e7), verbose = int(1e5)):\n",
    "        self.learning_rate = learning_rate\n",
    "        self.lambda_l2 = lambda_l2\n",
    "        self.epsilon = epsilon\n",
    "        self.latent_size = latent_size\n",
    "        self.max_iterations = max_iterations\n",
    "        self.verbose = verbose \n",
    "        \n",
    "    def fit(self, ratings, movie_info):\n",
    "        \n",
    "        \n",
    "        # функция поиска описания фильма по его идентификатору\n",
    "        self.search = lambda x: movie_info.loc[movie_info.movie_id == x]\n",
    "        \n",
    "        # инициализация матриц эмбедингов\n",
    "        self.W = np.random.uniform(0, 1/np.sqrt(self.latent_size), \n",
    "                      size=(ratings.user_id.max(), self.latent_size)) \n",
    "        \n",
    "        self.H = np.random.uniform(0, 1/np.sqrt(self.latent_size), \n",
    "                      size=(self.latent_size, ratings.movie_id.max())) \n",
    "        set_movies_all = set(np.arange(1, ratings.movie_id.max() + 1))\n",
    "#         self.biasV = np.random.rand(len(set_movies_all)) * 0.01\n",
    "        \n",
    "        ratings_numpy = ratings.to_numpy()\n",
    "        self.movie_info = movie_info\n",
    "        self.ratings = ratings\n",
    "    \n",
    "        l = ratings.shape[0]\n",
    "        itx = 0\n",
    "        # множество всех фильмов\n",
    "        \n",
    "        while True:\n",
    "\n",
    "            # подсчет rmse на кратной итерации\n",
    "            self.PR = np.array(self.W @ self.H)\n",
    "            idx_users = ratings_numpy[:, 0] - 1\n",
    "            idx_movies = ratings_numpy[:, 1] - 1\n",
    "            rvals = ratings_numpy[:, 2]\n",
    "            f_norm =  np.linalg.norm(self.PR[idx_users, idx_movies] - rvals) / l\n",
    "            if f_norm <= self.epsilon:\n",
    "                break\n",
    "                    \n",
    "            for u_pos in tqdm(ratings.user_id.unique(), position=0, leave=False, desc=f'|{itx}. rmse - {f_norm:.10f}'):\n",
    "                    u_movies = ratings.loc[ratings.user_id == u_pos].movie_id\n",
    "                    m_pos = u_movies.sample().item()\n",
    "\n",
    "                    u_pos -= 1\n",
    "                    m_pos -= 1\n",
    "                    # выделяем негативные случаи и берем случайный элемент\n",
    "                    set_movies_pos = set(u_movies)\n",
    "                    idies_neg = list(set_movies_all - set_movies_pos)\n",
    "                    for m_neg in idies_neg:\n",
    "                        m_neg -= 1\n",
    "\n",
    "                        # считаем расстояние от позитивного отзыва до негативного\n",
    "                        r_pos = self.W[u_pos, :] @ self.H[:, m_pos]# + self.biasV[m_pos]\n",
    "                        r_neg = self.W[u_pos, :] @ self.H[:, m_neg]# + self.biasV[m_neg]\n",
    "                        # обновляем только некорректные оценки\n",
    "                        if r_neg > r_pos:\n",
    "                            err = r_pos - r_neg\n",
    "\n",
    "                            loss = -1.0 / (1 + np.exp(err))\n",
    "                            self.W[u_pos, :] -= self.learning_rate * (loss * (self.H[:, m_pos].T - self.H[:, m_neg].T)\n",
    "                                                                  + self.lambda_l2 * self.W[u_pos, :])\n",
    "\n",
    "                            self.H[:, m_pos] -= self.learning_rate * (loss * self.W[u_pos, :].T + self.lambda_l2 * self.H[:, m_pos])\n",
    "                            self.H[:, m_neg] -= self.learning_rate * (loss * self.W[u_pos, :].T + self.lambda_l2 * self.H[:, m_neg])\n",
    "\n",
    "\n",
    "                        \n",
    "            itx += 1\n",
    "            if itx >= self.max_iterations:\n",
    "                break\n",
    "        \n",
    "        self.movie_values = self.ratings.movie_id.sort_values().unique()\n",
    "        print(f'Done! ({itx}, {f_norm:.5f})')\n",
    "        \n",
    "    def history(self, idx, count = 5):\n",
    "        # выгрузка истории просмотренных фильмов по идентификатору пользователя\n",
    "        idies = self.ratings.loc[self.ratings.user_id == idx].sort_values('rating').movie_id.iloc[:count].values\n",
    "        histories = pd.concat([self.search(i) for i in idies])\n",
    "        return histories.to_numpy()\n",
    "        \n",
    "\n",
    "    def similar_items(self, idx, count = 5):\n",
    "        # предсказание схожих по представлениям фильмов\n",
    "        similar_key = lambda x: np.linalg.norm(self.H[:, x] - self.H[:, idx - 1])\n",
    "        idx_movies_real = self.ratings.movie_id.sort_values().unique() \n",
    "        distances = [[x, np.linalg.norm(similar_key(x - 1))] for x in idx_movies_real]\n",
    "        distances.sort(key = lambda x: x[1])\n",
    "        idies = [i[0] for i in distances[:count + 1]]\n",
    "        similaries = pd.concat([self.search(i) for i in idies])\n",
    "        return similaries.to_numpy()\n",
    "    \n",
    "    def recommend(self, idx, count = 5):\n",
    "        # рекомендации пользователю \n",
    "        user_ratings_all = np.array(self.W @ self.H)[idx - 1]\n",
    "        user_ratings = set(ratings.loc[ratings.user_id == idx].movie_id)\n",
    "        sorted_all_idies = np.argsort(user_ratings_all)[::-1] + 1\n",
    "        idies = [i for i in sorted_all_idies if i not in user_ratings][:count]\n",
    "        recomendations = pd.concat([self.search(i) for i in idies])\n",
    "        return recomendations.to_numpy()"
   ]
  },
  {
   "cell_type": "code",
   "execution_count": 32,
   "metadata": {},
   "outputs": [
    {
     "name": "stderr",
     "output_type": "stream",
     "text": [
      "                                                                            \r"
     ]
    },
    {
     "name": "stdout",
     "output_type": "stream",
     "text": [
      "Done! (10, 0.00581)\n"
     ]
    }
   ],
   "source": [
    "WARP_SGD = WARP(learning_rate = 5e-2, lambda_l2 = 1e-3, latent_size = 32, epsilon = 1e-4, max_iterations = 10, verbose = 1)\n",
    "WARP_SGD.fit(implicit_ratings, movie_info)"
   ]
  },
  {
   "cell_type": "code",
   "execution_count": 33,
   "metadata": {},
   "outputs": [
    {
     "data": {
      "text/plain": [
       "array([[1, 'Toy Story (1995)', \"Animation|Children's|Comedy\"],\n",
       "       [1552, 'Con Air (1997)', 'Action|Adventure|Thriller'],\n",
       "       [242, 'Farinelli: il castrato (1994)', 'Drama|Musical'],\n",
       "       [746, 'Force of Evil (1948)', 'Film-Noir'],\n",
       "       [3754, 'Adventures of Rocky and Bullwinkle, The (2000)',\n",
       "        \"Animation|Children's|Comedy\"],\n",
       "       [1255, 'Bad Taste (1987)', 'Comedy|Horror']], dtype=object)"
      ]
     },
     "execution_count": 33,
     "metadata": {},
     "output_type": "execute_result"
    }
   ],
   "source": [
    "WARP_SGD.similar_items(1)"
   ]
  },
  {
   "cell_type": "code",
   "execution_count": 34,
   "metadata": {},
   "outputs": [
    {
     "data": {
      "text/plain": [
       "array([[2951, 'Fistful of Dollars, A (1964)', 'Action|Western'],\n",
       "       [1214, 'Alien (1979)', 'Action|Horror|Sci-Fi|Thriller'],\n",
       "       [1036, 'Die Hard (1988)', 'Action|Thriller'],\n",
       "       [480, 'Jurassic Park (1993)', 'Action|Adventure|Sci-Fi'],\n",
       "       [2366, 'King Kong (1933)', 'Action|Adventure|Horror'],\n",
       "       [1097, 'E.T. the Extra-Terrestrial (1982)',\n",
       "        \"Children's|Drama|Fantasy|Sci-Fi\"],\n",
       "       [3418, 'Thelma & Louise (1991)', 'Action|Drama'],\n",
       "       [3702, 'Mad Max (1979)', 'Action|Sci-Fi'],\n",
       "       [3468, 'Hustler, The (1961)', 'Drama'],\n",
       "       [2692, 'Run Lola Run (Lola rennt) (1998)', 'Action|Crime|Romance']],\n",
       "      dtype=object)"
      ]
     },
     "execution_count": 34,
     "metadata": {},
     "output_type": "execute_result"
    }
   ],
   "source": [
    "WARP_SGD.history(4, 10)"
   ]
  },
  {
   "cell_type": "code",
   "execution_count": 35,
   "metadata": {},
   "outputs": [
    {
     "data": {
      "text/plain": [
       "array([[16, 'Casino (1995)', 'Drama|Thriller'],\n",
       "       [60, 'Indian in the Cupboard, The (1995)',\n",
       "        \"Adventure|Children's|Fantasy\"],\n",
       "       [969, 'African Queen, The (1951)', 'Action|Adventure|Romance|War'],\n",
       "       [913, 'Maltese Falcon, The (1941)', 'Film-Noir|Mystery'],\n",
       "       [3510, 'Frequency (2000)', 'Drama|Thriller'],\n",
       "       [41, 'Richard III (1995)', 'Drama|War'],\n",
       "       [1358, 'Sling Blade (1996)', 'Drama|Thriller'],\n",
       "       [76, 'Screamers (1995)', 'Sci-Fi|Thriller'],\n",
       "       [39, 'Clueless (1995)', 'Comedy|Romance'],\n",
       "       [6, 'Heat (1995)', 'Action|Crime|Thriller'],\n",
       "       [2858, 'American Beauty (1999)', 'Comedy|Drama'],\n",
       "       [3160, 'Magnolia (1999)', 'Drama'],\n",
       "       [3148, 'Cider House Rules, The (1999)', 'Drama'],\n",
       "       [1302, 'Field of Dreams (1989)', 'Drama'],\n",
       "       [593, 'Silence of the Lambs, The (1991)', 'Drama|Thriller'],\n",
       "       [3198, 'Papillon (1973)', 'Drama'],\n",
       "       [3836, \"Kelly's Heroes (1970)\", 'Action|Comedy|War'],\n",
       "       [3189, 'My Dog Skip (1999)', 'Comedy'],\n",
       "       [30, 'Shanghai Triad (Yao a yao yao dao waipo qiao) (1995)',\n",
       "        'Drama'],\n",
       "       [33, 'Wings of Courage (1995)', 'Adventure|Romance']], dtype=object)"
      ]
     },
     "execution_count": 35,
     "metadata": {},
     "output_type": "execute_result"
    }
   ],
   "source": [
    "WARP_SGD.recommend(4, 20)"
   ]
  },
  {
   "cell_type": "code",
   "execution_count": null,
   "metadata": {},
   "outputs": [],
   "source": []
  }
 ],
 "metadata": {
  "kernelspec": {
   "display_name": "Python 3",
   "language": "python",
   "name": "python3"
  },
  "language_info": {
   "codemirror_mode": {
    "name": "ipython",
    "version": 3
   },
   "file_extension": ".py",
   "mimetype": "text/x-python",
   "name": "python",
   "nbconvert_exporter": "python",
   "pygments_lexer": "ipython3",
   "version": "3.7.9"
  }
 },
 "nbformat": 4,
 "nbformat_minor": 4
}
