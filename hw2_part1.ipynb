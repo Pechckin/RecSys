{
 "cells": [
  {
   "cell_type": "code",
   "execution_count": 1,
   "metadata": {},
   "outputs": [],
   "source": [
    "import numpy as np \n",
    "import pandas as pd \n",
    "import lightgbm as lgb\n",
    "from tqdm import tqdm\n",
    "from sklearn.metrics import roc_auc_score\n",
    "import matplotlib.pyplot as plt"
   ]
  },
  {
   "cell_type": "markdown",
   "metadata": {},
   "source": [
    "# загрузим все данные"
   ]
  },
  {
   "cell_type": "code",
   "execution_count": 2,
   "metadata": {},
   "outputs": [],
   "source": [
    "train = pd.read_csv('train.csv')\n",
    "                                        \n",
    "test = pd.read_csv('test.csv')\n",
    "songs = pd.read_csv('songs.csv')\n",
    "members = pd.read_csv('members.csv',\n",
    "                     parse_dates=['registration_init_time','expiration_date'])\n",
    "\n",
    "songs_extra = pd.read_csv('song_extra_info.csv')"
   ]
  },
  {
   "cell_type": "markdown",
   "metadata": {},
   "source": [
    "# составим датасеты"
   ]
  },
  {
   "cell_type": "code",
   "execution_count": 3,
   "metadata": {},
   "outputs": [],
   "source": [
    "songs_mi = songs.loc[:, ['song_id', 'artist_name', 'genre_ids', 'song_length', 'language']]\n",
    "train = train.merge(songs_mi, on='song_id', how='left')\n",
    "test = test.merge(songs_mi, on='song_id', how='left')"
   ]
  },
  {
   "cell_type": "code",
   "execution_count": 4,
   "metadata": {},
   "outputs": [],
   "source": [
    "members['registration_year'] = members.registration_init_time.apply(lambda x: x.year)\n",
    "members['registration_month'] = members.registration_init_time.apply(lambda x: x.month)\n",
    "members['registration_day'] = members.registration_init_time.apply(lambda x: x.day)\n",
    "\n",
    "members['expiration_year'] = members.expiration_date.apply(lambda x: x.year)\n",
    "members['expiration_month'] = members.expiration_date.apply(lambda x: x.month)\n",
    "members['expiration_day'] = members.expiration_date.apply(lambda x: x.day)\n",
    "\n",
    "members = members.drop(['registration_init_time'], axis=1)\n",
    "members = members.drop(['expiration_date'], axis=1)"
   ]
  },
  {
   "cell_type": "code",
   "execution_count": 5,
   "metadata": {},
   "outputs": [],
   "source": [
    "def isrc_to_year(isrc):\n",
    "    if type(isrc) == str:\n",
    "        if int(isrc[5:7]) > 17:\n",
    "            return 1900 + int(isrc[5:7])\n",
    "        else:\n",
    "            return 2000 + int(isrc[5:7])\n",
    "    else:\n",
    "        return np.nan"
   ]
  },
  {
   "cell_type": "code",
   "execution_count": 6,
   "metadata": {},
   "outputs": [],
   "source": [
    "songs_extra['song_year'] = songs_extra['isrc'].apply(isrc_to_year)\n",
    "songs_extra.drop(['isrc', 'name'], axis = 1, inplace = True)"
   ]
  },
  {
   "cell_type": "code",
   "execution_count": 7,
   "metadata": {},
   "outputs": [],
   "source": [
    "train = train.merge(members, on='msno', how='left')\n",
    "test = test.merge(members, on='msno', how='left')\n",
    "\n",
    "train = train.merge(songs_extra, on = 'song_id', how = 'left')\n",
    "test = test.merge(songs_extra, on = 'song_id', how = 'left')"
   ]
  },
  {
   "cell_type": "code",
   "execution_count": 9,
   "metadata": {},
   "outputs": [],
   "source": [
    "for col in train.columns:\n",
    "    if col != 'target':\n",
    "        train[col] = train[col].astype('category')\n",
    "        test[col] = test[col].astype('category')"
   ]
  },
  {
   "cell_type": "code",
   "execution_count": 10,
   "metadata": {},
   "outputs": [],
   "source": [
    "X = train.drop(['target'], axis=1)\n",
    "y = train['target']"
   ]
  },
  {
   "cell_type": "code",
   "execution_count": 11,
   "metadata": {},
   "outputs": [],
   "source": [
    "from sklearn.model_selection import KFold\n",
    "from sklearn.model_selection import train_test_split"
   ]
  },
  {
   "cell_type": "code",
   "execution_count": 12,
   "metadata": {},
   "outputs": [],
   "source": [
    "kf = KFold(n_splits=5)"
   ]
  },
  {
   "cell_type": "code",
   "execution_count": 13,
   "metadata": {},
   "outputs": [
    {
     "name": "stdout",
     "output_type": "stream",
     "text": [
      "Start iteration\n",
      "Training LGBM model...\n",
      "prepare model\n",
      "learning...\n",
      "[5]\ttraining's auc: 0.68861\tvalid_1's auc: 0.685922\n",
      "[10]\ttraining's auc: 0.704484\tvalid_1's auc: 0.70055\n",
      "[15]\ttraining's auc: 0.713689\tvalid_1's auc: 0.709235\n",
      "[20]\ttraining's auc: 0.718527\tvalid_1's auc: 0.713748\n",
      "[25]\ttraining's auc: 0.723919\tvalid_1's auc: 0.718577\n",
      "[30]\ttraining's auc: 0.727401\tvalid_1's auc: 0.721831\n",
      "[35]\ttraining's auc: 0.72982\tvalid_1's auc: 0.724051\n",
      "[40]\ttraining's auc: 0.732468\tvalid_1's auc: 0.726435\n",
      "[45]\ttraining's auc: 0.735113\tvalid_1's auc: 0.728823\n",
      "[50]\ttraining's auc: 0.737154\tvalid_1's auc: 0.73066\n",
      "Start iteration\n",
      "Training LGBM model...\n",
      "prepare model\n",
      "learning...\n",
      "[5]\ttraining's auc: 0.707827\tvalid_1's auc: 0.704909\n",
      "[10]\ttraining's auc: 0.72265\tvalid_1's auc: 0.718675\n",
      "[15]\ttraining's auc: 0.731697\tvalid_1's auc: 0.727158\n",
      "[20]\ttraining's auc: 0.736638\tvalid_1's auc: 0.731704\n",
      "[25]\ttraining's auc: 0.739153\tvalid_1's auc: 0.734094\n",
      "[30]\ttraining's auc: 0.742987\tvalid_1's auc: 0.737638\n",
      "[35]\ttraining's auc: 0.746171\tvalid_1's auc: 0.740544\n",
      "[40]\ttraining's auc: 0.748065\tvalid_1's auc: 0.742257\n",
      "[45]\ttraining's auc: 0.749958\tvalid_1's auc: 0.743923\n",
      "[50]\ttraining's auc: 0.751757\tvalid_1's auc: 0.745485\n",
      "Start iteration\n",
      "Training LGBM model...\n",
      "prepare model\n",
      "learning...\n",
      "[5]\ttraining's auc: 0.710803\tvalid_1's auc: 0.709152\n",
      "[10]\ttraining's auc: 0.726633\tvalid_1's auc: 0.724005\n",
      "[15]\ttraining's auc: 0.736553\tvalid_1's auc: 0.733282\n",
      "[20]\ttraining's auc: 0.740926\tvalid_1's auc: 0.737359\n",
      "[25]\ttraining's auc: 0.744972\tvalid_1's auc: 0.741205\n",
      "[30]\ttraining's auc: 0.74759\tvalid_1's auc: 0.743649\n",
      "[35]\ttraining's auc: 0.750292\tvalid_1's auc: 0.746028\n",
      "[40]\ttraining's auc: 0.753056\tvalid_1's auc: 0.748563\n",
      "[45]\ttraining's auc: 0.755559\tvalid_1's auc: 0.750768\n",
      "[50]\ttraining's auc: 0.758122\tvalid_1's auc: 0.753029\n",
      "Start iteration\n",
      "Training LGBM model...\n",
      "prepare model\n",
      "learning...\n",
      "[5]\ttraining's auc: 0.7143\tvalid_1's auc: 0.712744\n",
      "[10]\ttraining's auc: 0.729547\tvalid_1's auc: 0.727015\n",
      "[15]\ttraining's auc: 0.738448\tvalid_1's auc: 0.735325\n",
      "[20]\ttraining's auc: 0.744268\tvalid_1's auc: 0.740899\n",
      "[25]\ttraining's auc: 0.747764\tvalid_1's auc: 0.744158\n",
      "[30]\ttraining's auc: 0.750715\tvalid_1's auc: 0.746971\n",
      "[35]\ttraining's auc: 0.753665\tvalid_1's auc: 0.749629\n",
      "[40]\ttraining's auc: 0.756374\tvalid_1's auc: 0.752006\n",
      "[45]\ttraining's auc: 0.758557\tvalid_1's auc: 0.753947\n",
      "[50]\ttraining's auc: 0.760749\tvalid_1's auc: 0.755901\n",
      "Start iteration\n",
      "Training LGBM model...\n",
      "prepare model\n",
      "learning...\n",
      "[5]\ttraining's auc: 0.71665\tvalid_1's auc: 0.715013\n",
      "[10]\ttraining's auc: 0.731002\tvalid_1's auc: 0.728496\n",
      "[15]\ttraining's auc: 0.741202\tvalid_1's auc: 0.73779\n",
      "[20]\ttraining's auc: 0.74698\tvalid_1's auc: 0.743175\n",
      "[25]\ttraining's auc: 0.750731\tvalid_1's auc: 0.746813\n",
      "[30]\ttraining's auc: 0.753949\tvalid_1's auc: 0.749667\n",
      "[35]\ttraining's auc: 0.756355\tvalid_1's auc: 0.751873\n",
      "[40]\ttraining's auc: 0.758357\tvalid_1's auc: 0.753699\n",
      "[45]\ttraining's auc: 0.760848\tvalid_1's auc: 0.755933\n",
      "[50]\ttraining's auc: 0.76243\tvalid_1's auc: 0.757339\n"
     ]
    }
   ],
   "source": [
    "k_fold_results = []\n",
    "for train_index, test_index in kf.split(X):\n",
    "    print(\"Start iteration\")\n",
    "    # test\n",
    "    X_test = X.iloc[test_index]\n",
    "    y_test = y.iloc[test_index]\n",
    "    \n",
    "    XX = X.iloc[train_index]\n",
    "    yy = y.iloc[train_index]\n",
    "    \n",
    "    X_train, X_val, y_train, y_val = train_test_split(\n",
    "                                     XX, yy, test_size=0.2, random_state=42, stratify=yy)\n",
    "    \n",
    "    print('Training LGBM model...')\n",
    "    \n",
    "    \n",
    "    \n",
    "\n",
    "    print('prepare model')\n",
    "    lgbtrain = lgb.Dataset(X_train, y_train)\n",
    "    lgbval = lgb.Dataset(X_val, y_val)\n",
    "\n",
    "\n",
    "    params = {}\n",
    "    params['learning_rate'] = 0.2\n",
    "    params['application'] = 'binary'\n",
    "    params['max_depth'] = 8\n",
    "    params['num_leaves'] = 2**8\n",
    "    params['verbosity'] = 0\n",
    "    params['metric'] = 'auc'\n",
    "    \n",
    "    print('learning...')\n",
    "    evals = {}\n",
    "    gbm = lgb.train(params, \n",
    "                      train_set=lgbtrain, \n",
    "                      num_boost_round=50, \n",
    "                      valid_sets=[lgbtrain, lgbval],\n",
    "                      verbose_eval=5,\n",
    "                      evals_result=evals,)\n",
    "    \n",
    "    y_pred = gbm.predict(X_test)\n",
    "    scr = roc_auc_score(y_test, y_pred)\n",
    "    \n",
    "    k_fold_results.append((gbm, scr))"
   ]
  },
  {
   "cell_type": "code",
   "execution_count": 20,
   "metadata": {},
   "outputs": [
    {
     "data": {
      "text/plain": [
       "0.7030190287116239"
      ]
     },
     "execution_count": 20,
     "metadata": {},
     "output_type": "execute_result"
    }
   ],
   "source": [
    "# mean auc\n",
    "np.array(k_fold_results)[:,1].mean()"
   ]
  },
  {
   "cell_type": "code",
   "execution_count": null,
   "metadata": {},
   "outputs": [],
   "source": []
  }
 ],
 "metadata": {
  "kernelspec": {
   "display_name": "Python 3",
   "language": "python",
   "name": "python3"
  },
  "language_info": {
   "codemirror_mode": {
    "name": "ipython",
    "version": 3
   },
   "file_extension": ".py",
   "mimetype": "text/x-python",
   "name": "python",
   "nbconvert_exporter": "python",
   "pygments_lexer": "ipython3",
   "version": "3.7.9"
  }
 },
 "nbformat": 4,
 "nbformat_minor": 4
}
